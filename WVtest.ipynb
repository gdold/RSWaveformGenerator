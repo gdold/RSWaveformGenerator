{
 "cells": [
  {
   "cell_type": "markdown",
   "metadata": {},
   "source": [
    "## Generate .wv file locally from I/Q data"
   ]
  },
  {
   "cell_type": "code",
   "execution_count": 1,
   "metadata": {},
   "outputs": [],
   "source": [
    "import numpy as np\n",
    "from RSWaveformGenerator import RSWaveformGenerator"
   ]
  },
  {
   "cell_type": "markdown",
   "metadata": {},
   "source": [
    "Connect to instrument"
   ]
  },
  {
   "cell_type": "code",
   "execution_count": 2,
   "metadata": {},
   "outputs": [],
   "source": [
    "wavegen = RSWaveformGenerator()"
   ]
  },
  {
   "cell_type": "markdown",
   "metadata": {},
   "source": [
    "Generate I/Q vector with markers"
   ]
  },
  {
   "cell_type": "code",
   "execution_count": 3,
   "metadata": {},
   "outputs": [
    {
     "name": "stdout",
     "output_type": "stream",
     "text": [
      "Waveform generated: 600000 samples, 2400220 bytes\n"
     ]
    }
   ],
   "source": [
    "clock = 600e6 # Hz\n",
    "length = 0.001 # s\n",
    "time_vector = np.arange(0,length,1/clock) # s\n",
    "frequency = 10e6 # Hz\n",
    "\n",
    "I_data = np.cos(frequency*time_vector*2*np.pi)\n",
    "Q_data = np.sin(frequency*time_vector*2*np.pi)\n",
    "\n",
    "markers = {}\n",
    "markers['marker1'] = [[0,0],[10,1],[50,0]]\n",
    "markers['marker2'] = [[0,1]]\n",
    "\n",
    "wavegen.generate_wave(I_data,Q_data,clock,markers)"
   ]
  },
  {
   "cell_type": "markdown",
   "metadata": {},
   "source": [
    "Save file locally"
   ]
  },
  {
   "cell_type": "code",
   "execution_count": 4,
   "metadata": {},
   "outputs": [],
   "source": [
    "wavegen.save_wave_file('waveform.wv')"
   ]
  }
 ],
 "metadata": {
  "kernelspec": {
   "display_name": "Python 3",
   "language": "python",
   "name": "python3"
  },
  "language_info": {
   "codemirror_mode": {
    "name": "ipython",
    "version": 3
   },
   "file_extension": ".py",
   "mimetype": "text/x-python",
   "name": "python",
   "nbconvert_exporter": "python",
   "pygments_lexer": "ipython3",
   "version": "3.7.1"
  }
 },
 "nbformat": 4,
 "nbformat_minor": 2
}
