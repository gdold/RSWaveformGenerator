{
 "cells": [
  {
   "cell_type": "markdown",
   "metadata": {},
   "source": [
    "## Generate waveform from I/Q data, upload to R&S AWG"
   ]
  },
  {
   "cell_type": "code",
   "execution_count": 1,
   "metadata": {},
   "outputs": [],
   "source": [
    "import numpy as np\n",
    "import qcodes as qc # QCodes is used to communicate with instrument\n",
    "from AFQ100B import RohdeSchwarz_AFQ100B"
   ]
  },
  {
   "cell_type": "markdown",
   "metadata": {},
   "source": [
    "Connect to instrument (Rohde & Schwarz AFQ 100B UWB signal and I/Q modulation generator)"
   ]
  },
  {
   "cell_type": "code",
   "execution_count": 2,
   "metadata": {},
   "outputs": [
    {
     "name": "stdout",
     "output_type": "stream",
     "text": [
      "Connected to: Rohde&Schwarz AFQ100B (serial:1410.9000k02/100079, firmware:2.1.72.0-02.09.285.21  (Release)) in 0.13s\n"
     ]
    }
   ],
   "source": [
    "awg = RohdeSchwarz_AFQ100B('AFQ100B','USB0::0x0AAD::0x0066::100079::INSTR')"
   ]
  },
  {
   "cell_type": "markdown",
   "metadata": {},
   "source": [
    "Generate I/Q vector with markers"
   ]
  },
  {
   "cell_type": "code",
   "execution_count": 3,
   "metadata": {},
   "outputs": [
    {
     "name": "stdout",
     "output_type": "stream",
     "text": [
      "Waveform generated: 600000 samples, 2400220 bytes\n"
     ]
    }
   ],
   "source": [
    "clock = 600e6 # Hz\n",
    "length = 0.001 # s\n",
    "time_vector = np.arange(0,length,1/clock) # s\n",
    "frequency = 10e6 # Hz\n",
    "\n",
    "I_data = np.cos(frequency*time_vector*2*np.pi)\n",
    "Q_data = np.sin(frequency*time_vector*2*np.pi)\n",
    "\n",
    "markers = {}\n",
    "markers['marker1'] = [[0,0],[10,1],[50,0]]\n",
    "markers['marker2'] = [[0,1]]\n",
    "\n",
    "awg.waveform.generate_wave(I_data,Q_data,clock,markers)"
   ]
  },
  {
   "cell_type": "markdown",
   "metadata": {},
   "source": [
    "Save file locally"
   ]
  },
  {
   "cell_type": "code",
   "execution_count": 4,
   "metadata": {},
   "outputs": [],
   "source": [
    "awg.waveform.save_wave_file('waveform.wv')"
   ]
  },
  {
   "cell_type": "markdown",
   "metadata": {},
   "source": [
    "Upload waveform and prepare AWG"
   ]
  },
  {
   "cell_type": "code",
   "execution_count": 5,
   "metadata": {},
   "outputs": [
    {
     "name": "stdout",
     "output_type": "stream",
     "text": [
      "Uploaded 2400220 bytes to D:\\TEMP\\temp.wv\n"
     ]
    }
   ],
   "source": [
    "awg.waveform.upload_wave() # Send waveform to AWG\n",
    "awg.runmode('SING') # Single run mode\n",
    "awg.triggersource('MAN') # Manual trigger\n",
    "awg.amplitude(0.7) # V\n",
    "awg.on() # RF output on"
   ]
  },
  {
   "cell_type": "markdown",
   "metadata": {},
   "source": [
    "Trigger waveform"
   ]
  },
  {
   "cell_type": "code",
   "execution_count": 6,
   "metadata": {},
   "outputs": [],
   "source": [
    "awg.trigger()"
   ]
  }
 ],
 "metadata": {
  "kernelspec": {
   "display_name": "Python 3",
   "language": "python",
   "name": "python3"
  },
  "language_info": {
   "codemirror_mode": {
    "name": "ipython",
    "version": 3
   },
   "file_extension": ".py",
   "mimetype": "text/x-python",
   "name": "python",
   "nbconvert_exporter": "python",
   "pygments_lexer": "ipython3",
   "version": "3.7.1"
  }
 },
 "nbformat": 4,
 "nbformat_minor": 2
}
